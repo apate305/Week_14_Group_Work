{
 "cells": [
  {
   "cell_type": "markdown",
   "id": "5db6ae03",
   "metadata": {},
   "source": [
    "1. Using the documentation for Recursive Feature Selection, apply this process to the crime dataset to create the best multivariate linear regression model https://scikit-learn.org/stable/modules/generated/sklearn.feature_selection.RFE.html . You can select what you’re trying to predict, but be sure to indicate what that is. Be sure to explain what RFE is in the markdown. You should be able to answer this using what’s on the documentation page + what you already know."
   ]
  },
  {
   "cell_type": "markdown",
   "id": "f2d75efa",
   "metadata": {},
   "source": [
    "RFE or recursive feature selection is a feature selection algorithm. This is used to select the most relevant features or independent variables as part of the training set that predict the target variable (dependent variable). The reason why we would need to use RFE is so that we can get the best predictive model that runs efficently. There are some algorithms that can be rendered useless if irrelevant features are given as the predictive performance won't be accurate. This is why we use RFE. \n",
    "\n",
    "How does RFE work?\n",
    "\n",
    "    This process searches for a set of features from the total features by removing features until the optimal \n",
    "    subset of features is reached. Hence the recursion.    "
   ]
  },
  {
   "cell_type": "code",
   "execution_count": 6,
   "id": "12c072f7",
   "metadata": {},
   "outputs": [],
   "source": [
    "import numpy as np\n",
    "import pandas as pd\n",
    "import matplotlib.pyplot as plt\n",
    "import seaborn as sns\n",
    "\n",
    "from sklearn.model_selection import train_test_split\n",
    "from sklearn.svm import SVC, SVR\n",
    "from sklearn.datasets import load_digits\n",
    "from sklearn.feature_selection import RFE\n",
    "from sklearn.ensemble import AdaBoostRegressor"
   ]
  },
  {
   "cell_type": "code",
   "execution_count": 10,
   "id": "e7199a13",
   "metadata": {},
   "outputs": [
    {
     "data": {
      "text/html": [
       "<div>\n",
       "<style scoped>\n",
       "    .dataframe tbody tr th:only-of-type {\n",
       "        vertical-align: middle;\n",
       "    }\n",
       "\n",
       "    .dataframe tbody tr th {\n",
       "        vertical-align: top;\n",
       "    }\n",
       "\n",
       "    .dataframe thead th {\n",
       "        text-align: right;\n",
       "    }\n",
       "</style>\n",
       "<table border=\"1\" class=\"dataframe\">\n",
       "  <thead>\n",
       "    <tr style=\"text-align: right;\">\n",
       "      <th></th>\n",
       "      <th>X1</th>\n",
       "      <th>X2</th>\n",
       "      <th>X3</th>\n",
       "      <th>X4</th>\n",
       "      <th>X5</th>\n",
       "      <th>X6</th>\n",
       "      <th>X7</th>\n",
       "    </tr>\n",
       "  </thead>\n",
       "  <tbody>\n",
       "    <tr>\n",
       "      <th>0</th>\n",
       "      <td>478</td>\n",
       "      <td>184</td>\n",
       "      <td>40</td>\n",
       "      <td>74</td>\n",
       "      <td>11</td>\n",
       "      <td>31</td>\n",
       "      <td>20</td>\n",
       "    </tr>\n",
       "    <tr>\n",
       "      <th>1</th>\n",
       "      <td>494</td>\n",
       "      <td>213</td>\n",
       "      <td>32</td>\n",
       "      <td>72</td>\n",
       "      <td>11</td>\n",
       "      <td>43</td>\n",
       "      <td>18</td>\n",
       "    </tr>\n",
       "    <tr>\n",
       "      <th>2</th>\n",
       "      <td>643</td>\n",
       "      <td>347</td>\n",
       "      <td>57</td>\n",
       "      <td>70</td>\n",
       "      <td>18</td>\n",
       "      <td>16</td>\n",
       "      <td>16</td>\n",
       "    </tr>\n",
       "    <tr>\n",
       "      <th>3</th>\n",
       "      <td>341</td>\n",
       "      <td>565</td>\n",
       "      <td>31</td>\n",
       "      <td>71</td>\n",
       "      <td>11</td>\n",
       "      <td>25</td>\n",
       "      <td>19</td>\n",
       "    </tr>\n",
       "    <tr>\n",
       "      <th>4</th>\n",
       "      <td>773</td>\n",
       "      <td>327</td>\n",
       "      <td>67</td>\n",
       "      <td>72</td>\n",
       "      <td>9</td>\n",
       "      <td>29</td>\n",
       "      <td>24</td>\n",
       "    </tr>\n",
       "  </tbody>\n",
       "</table>\n",
       "</div>"
      ],
      "text/plain": [
       "    X1   X2  X3  X4  X5  X6  X7\n",
       "0  478  184  40  74  11  31  20\n",
       "1  494  213  32  72  11  43  18\n",
       "2  643  347  57  70  18  16  16\n",
       "3  341  565  31  71  11  25  19\n",
       "4  773  327  67  72   9  29  24"
      ]
     },
     "execution_count": 10,
     "metadata": {},
     "output_type": "execute_result"
    }
   ],
   "source": [
    "crime_df = pd.read_csv(\"crime_data copy 2.csv\")\n",
    "crime_df.head()"
   ]
  },
  {
   "cell_type": "code",
   "execution_count": 11,
   "id": "32cae552",
   "metadata": {},
   "outputs": [
    {
     "name": "stdout",
     "output_type": "stream",
     "text": [
      "[ True False False False False False]\n",
      "[1 2 3 5 6 4]\n"
     ]
    }
   ],
   "source": [
    "X = crime_df.drop('X1', axis = 1)\n",
    "y = crime_df['X1']\n",
    "\n",
    "estimator = AdaBoostRegressor(random_state = 0, n_estimators = 100)\n",
    "selector  = RFE(estimator, n_features_to_select = 1, step =1)\n",
    "selector = selector.fit(X,y)\n",
    "\n",
    "filter = selector.support_\n",
    "ranking = selector.ranking_\n",
    "\n",
    "print(filter) #Mask Data\n",
    "print(ranking) #ranking"
   ]
  },
  {
   "cell_type": "code",
   "execution_count": 12,
   "id": "4eab7fee",
   "metadata": {},
   "outputs": [
    {
     "name": "stdout",
     "output_type": "stream",
     "text": [
      "['X2' 'X3' 'X4' 'X5' 'X6' 'X7']\n",
      "['X2']\n"
     ]
    }
   ],
   "source": [
    "features = np.array(X.columns)\n",
    "\n",
    "print(features) #all features (independent variables)\n",
    "\n",
    "print(features[filter]) #selected feature (dependent variable)"
   ]
  },
  {
   "cell_type": "markdown",
   "id": "c2aaf208",
   "metadata": {},
   "source": [
    "2. Create a list of preprocessing steps you should try when working to build a model. Briefly describe what each step is. Work with your group to come up with the most comprehensive list you can."
   ]
  },
  {
   "cell_type": "markdown",
   "id": "1843c62c",
   "metadata": {},
   "source": [
    "- Plot the overall distribution of the data\n",
    "    \n",
    "    - used to help us know if the data is skewed and would help to know what preprocessing steps are needed\n",
    "\n",
    "- Removing and/or replacing nulls \n",
    "     - removing columns if there are too many nulls\n",
    "     - replacing nulls if there aren't as many with mean, median or mode\n",
    "\n",
    "- Standardize or normalize the data\n",
    "\n",
    "- Scale the data\n",
    "\n",
    "- Remove repeated columns or rows\n",
    "\n",
    "- One hot encoding\n",
    "\n",
    "- Removing unnecessary characters (cleaning up in general)\n",
    " \n"
   ]
  }
 ],
 "metadata": {
  "kernelspec": {
   "display_name": "Python 3 (ipykernel)",
   "language": "python",
   "name": "python3"
  },
  "language_info": {
   "codemirror_mode": {
    "name": "ipython",
    "version": 3
   },
   "file_extension": ".py",
   "mimetype": "text/x-python",
   "name": "python",
   "nbconvert_exporter": "python",
   "pygments_lexer": "ipython3",
   "version": "3.9.7"
  }
 },
 "nbformat": 4,
 "nbformat_minor": 5
}
